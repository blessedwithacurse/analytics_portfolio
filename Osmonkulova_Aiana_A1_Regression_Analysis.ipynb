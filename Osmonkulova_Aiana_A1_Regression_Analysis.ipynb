{
 "cells": [
  {
   "cell_type": "code",
   "execution_count": 566,
   "id": "a6d8aa7d",
   "metadata": {},
   "outputs": [],
   "source": [
    "# importing required packages\n",
    "import pandas as pd\n",
    "import numpy as np\n",
    "import matplotlib.pyplot as plt\n",
    "import seaborn as sns\n",
    "from sklearn.model_selection import train_test_split\n",
    "from sklearn.neighbors import KNeighborsRegressor \n",
    "from sklearn.preprocessing import StandardScaler \n",
    "import statsmodels.formula.api as smf \n",
    "from sklearn.linear_model import LinearRegression, Lasso\n",
    "from sklearn.metrics import mean_squared_error, r2_score\n",
    "from sklearn.model_selection import cross_val_score\n",
    "from sklearn import linear_model"
   ]
  },
  {
   "cell_type": "code",
   "execution_count": 567,
   "id": "4c4e68c0",
   "metadata": {},
   "outputs": [
    {
     "data": {
      "text/html": [
       "<div>\n",
       "<style scoped>\n",
       "    .dataframe tbody tr th:only-of-type {\n",
       "        vertical-align: middle;\n",
       "    }\n",
       "\n",
       "    .dataframe tbody tr th {\n",
       "        vertical-align: top;\n",
       "    }\n",
       "\n",
       "    .dataframe thead th {\n",
       "        text-align: right;\n",
       "    }\n",
       "</style>\n",
       "<table border=\"1\" class=\"dataframe\">\n",
       "  <thead>\n",
       "    <tr style=\"text-align: right;\">\n",
       "      <th></th>\n",
       "      <th>mage</th>\n",
       "      <th>meduc</th>\n",
       "      <th>monpre</th>\n",
       "      <th>npvis</th>\n",
       "      <th>fage</th>\n",
       "      <th>feduc</th>\n",
       "      <th>omaps</th>\n",
       "      <th>fmaps</th>\n",
       "      <th>cigs</th>\n",
       "      <th>drink</th>\n",
       "      <th>male</th>\n",
       "      <th>mwhte</th>\n",
       "      <th>mblck</th>\n",
       "      <th>moth</th>\n",
       "      <th>fwhte</th>\n",
       "      <th>fblck</th>\n",
       "      <th>foth</th>\n",
       "      <th>bwght</th>\n",
       "    </tr>\n",
       "  </thead>\n",
       "  <tbody>\n",
       "    <tr>\n",
       "      <th>0</th>\n",
       "      <td>69</td>\n",
       "      <td>NaN</td>\n",
       "      <td>5</td>\n",
       "      <td>2.0</td>\n",
       "      <td>62</td>\n",
       "      <td>NaN</td>\n",
       "      <td>4</td>\n",
       "      <td>7</td>\n",
       "      <td>23</td>\n",
       "      <td>9</td>\n",
       "      <td>1</td>\n",
       "      <td>0</td>\n",
       "      <td>1</td>\n",
       "      <td>0</td>\n",
       "      <td>0</td>\n",
       "      <td>1</td>\n",
       "      <td>0</td>\n",
       "      <td>697</td>\n",
       "    </tr>\n",
       "    <tr>\n",
       "      <th>1</th>\n",
       "      <td>68</td>\n",
       "      <td>12.0</td>\n",
       "      <td>3</td>\n",
       "      <td>10.0</td>\n",
       "      <td>61</td>\n",
       "      <td>11.0</td>\n",
       "      <td>4</td>\n",
       "      <td>6</td>\n",
       "      <td>25</td>\n",
       "      <td>11</td>\n",
       "      <td>1</td>\n",
       "      <td>1</td>\n",
       "      <td>0</td>\n",
       "      <td>0</td>\n",
       "      <td>1</td>\n",
       "      <td>0</td>\n",
       "      <td>0</td>\n",
       "      <td>1290</td>\n",
       "    </tr>\n",
       "    <tr>\n",
       "      <th>2</th>\n",
       "      <td>71</td>\n",
       "      <td>12.0</td>\n",
       "      <td>3</td>\n",
       "      <td>6.0</td>\n",
       "      <td>46</td>\n",
       "      <td>12.0</td>\n",
       "      <td>2</td>\n",
       "      <td>7</td>\n",
       "      <td>21</td>\n",
       "      <td>12</td>\n",
       "      <td>1</td>\n",
       "      <td>0</td>\n",
       "      <td>1</td>\n",
       "      <td>0</td>\n",
       "      <td>0</td>\n",
       "      <td>1</td>\n",
       "      <td>0</td>\n",
       "      <td>1490</td>\n",
       "    </tr>\n",
       "    <tr>\n",
       "      <th>3</th>\n",
       "      <td>59</td>\n",
       "      <td>16.0</td>\n",
       "      <td>1</td>\n",
       "      <td>8.0</td>\n",
       "      <td>48</td>\n",
       "      <td>16.0</td>\n",
       "      <td>7</td>\n",
       "      <td>8</td>\n",
       "      <td>21</td>\n",
       "      <td>10</td>\n",
       "      <td>0</td>\n",
       "      <td>0</td>\n",
       "      <td>0</td>\n",
       "      <td>1</td>\n",
       "      <td>0</td>\n",
       "      <td>0</td>\n",
       "      <td>1</td>\n",
       "      <td>1720</td>\n",
       "    </tr>\n",
       "    <tr>\n",
       "      <th>4</th>\n",
       "      <td>48</td>\n",
       "      <td>12.0</td>\n",
       "      <td>4</td>\n",
       "      <td>6.0</td>\n",
       "      <td>39</td>\n",
       "      <td>12.0</td>\n",
       "      <td>2</td>\n",
       "      <td>9</td>\n",
       "      <td>17</td>\n",
       "      <td>13</td>\n",
       "      <td>0</td>\n",
       "      <td>1</td>\n",
       "      <td>0</td>\n",
       "      <td>0</td>\n",
       "      <td>1</td>\n",
       "      <td>0</td>\n",
       "      <td>0</td>\n",
       "      <td>1956</td>\n",
       "    </tr>\n",
       "  </tbody>\n",
       "</table>\n",
       "</div>"
      ],
      "text/plain": [
       "   mage  meduc  monpre  npvis  fage  feduc  omaps  fmaps  cigs  drink  male  \\\n",
       "0    69    NaN       5    2.0    62    NaN      4      7    23      9     1   \n",
       "1    68   12.0       3   10.0    61   11.0      4      6    25     11     1   \n",
       "2    71   12.0       3    6.0    46   12.0      2      7    21     12     1   \n",
       "3    59   16.0       1    8.0    48   16.0      7      8    21     10     0   \n",
       "4    48   12.0       4    6.0    39   12.0      2      9    17     13     0   \n",
       "\n",
       "   mwhte  mblck  moth  fwhte  fblck  foth  bwght  \n",
       "0      0      1     0      0      1     0    697  \n",
       "1      1      0     0      1      0     0   1290  \n",
       "2      0      1     0      0      1     0   1490  \n",
       "3      0      0     1      0      0     1   1720  \n",
       "4      1      0     0      1      0     0   1956  "
      ]
     },
     "execution_count": 567,
     "metadata": {},
     "output_type": "execute_result"
    }
   ],
   "source": [
    "# loading dataset\n",
    "file = './birthweight_low.xlsx'\n",
    "\n",
    "# reading dataset as xlxs using pandas\n",
    "birthweight = pd.read_excel(io=file)\n",
    "\n",
    "#showing general info of dataset\n",
    "# birthweight.info()\n",
    "birthweight.head()"
   ]
  },
  {
   "cell_type": "code",
   "execution_count": 568,
   "id": "6eedc698",
   "metadata": {},
   "outputs": [],
   "source": [
    "# drop NaN values from dataframe\n",
    "birthweight = birthweight.fillna(birthweight.mean())\n",
    "\n",
    "# dropping the target value bwght\n",
    "X = birthweight.drop('bwght', axis=1)\n",
    "\n",
    "# assigning target var to y\n",
    "y = birthweight['bwght']\n"
   ]
  },
  {
   "cell_type": "code",
   "execution_count": 569,
   "id": "d022772c",
   "metadata": {},
   "outputs": [
    {
     "name": "stdout",
     "output_type": "stream",
     "text": [
      "[ -10.28676606   12.93873425   -0.            0.84797108   -4.56058932\n",
      "    8.79434269    0.           67.86490834  -35.43527604 -112.81103052\n",
      "    7.6735337    22.32374408   -0.           -0.           -0.\n",
      "   30.08367427   -0.        ]\n"
     ]
    },
    {
     "data": {
      "image/png": "[encoded data removed]",
      "text/plain": [
       "<Figure size 432x288 with 1 Axes>"
      ]
     },
     "metadata": {
      "needs_background": "light"
     },
     "output_type": "display_data"
    }
   ],
   "source": [
    "\n",
    "# Feature selection \n",
    "feature_names = birthweight.drop('bwght', axis=1).columns\n",
    "\n",
    "lasso = Lasso(alpha=0.4, normalize=True)\n",
    "lasso_coef = lasso.fit(X, y).coef_\n",
    "\n",
    "#print lasso coeffs\n",
    "print(lasso_coef)\n",
    "\n",
    "# Plot the coefficients and determining the most important predictor\n",
    "plt.plot(range(len(feature_names)), lasso_coef)\n",
    "plt.xticks(range(len(feature_names)),feature_names, rotation=60)\n",
    "plt.ylabel('Coefficients')\n",
    "plt.grid()\n",
    "plt.show()"
   ]
  },
  {
   "cell_type": "code",
   "execution_count": 570,
   "id": "170ff778",
   "metadata": {},
   "outputs": [
    {
     "data": {
      "text/plain": [
       "<seaborn.axisgrid.FacetGrid at 0x7f9a21ec1e20>"
      ]
     },
     "execution_count": 570,
     "metadata": {},
     "output_type": "execute_result"
    },
    {
     "data": {
      "image/png": "[encoded data removed]",
      "text/plain": [
       "<Figure size 360x360 with 1 Axes>"
      ]
     },
     "metadata": {
      "needs_background": "light"
     },
     "output_type": "display_data"
    }
   ],
   "source": [
    "\n",
    "# Here is the most important predictors and target var that we will be using to build our models\n",
    "y = birthweight[['bwght']]\n",
    "X = birthweight[['drink', 'cigs', 'foth', 'fage']]\n",
    "\n",
    "# Below is the scatter plot showing strong correlation \n",
    "# between x-drink(the-strongest predictor var) and our target y var\n",
    "\n",
    "sns.lmplot(x = 'drink', y = 'bwght', data = birthweight)"
   ]
  },
  {
   "cell_type": "code",
   "execution_count": 571,
   "id": "1e266725",
   "metadata": {},
   "outputs": [],
   "source": [
    "# # Create training and test sets\n",
    "X_train, X_test, y_train, y_test = train_test_split(X, y, test_size = 0.25, random_state=219)"
   ]
  },
  {
   "cell_type": "code",
   "execution_count": 572,
   "id": "21bec4d7",
   "metadata": {},
   "outputs": [
    {
     "name": "stdout",
     "output_type": "stream",
     "text": [
      "Test set score:  0.7256438508802141\n",
      "Train set score:  0.6759555416119594\n",
      "Linear Regression Train-Test Gap : 0.0497\n"
     ]
    }
   ],
   "source": [
    "# Linear Regression Model\n",
    "\n",
    "# reg = LinearRegression()\n",
    "reg = LinearRegression()\n",
    "\n",
    "# Fit the model to the data\n",
    "reg.fit(X_train, y_train)\n",
    "\n",
    "# Compute predictions \n",
    "y_pred = reg.predict(X_test)\n",
    "\n",
    "# Printing reg score for train and test sets\n",
    "print('Test set score: ', reg.score(X_test, y_test))\n",
    "print('Train set score: ', reg.score(X_train, y_train))\n",
    "\n",
    "# Saving scoring data for future use\n",
    "reg_test_score = reg.score(X_test, y_test)\n",
    "reg_train_score = reg.score(X_train, y_train)\n",
    "\n",
    "# displaying and saving the gap between training and testing\n",
    "print('Linear Regression Train-Test Gap :', abs(reg_train_score - reg_test_score).round(4))\n",
    "reg_test_gap = abs(reg_train_score - reg_test_score).round(4)"
   ]
  },
  {
   "cell_type": "code",
   "execution_count": 573,
   "id": "90b4e1df",
   "metadata": {},
   "outputs": [
    {
     "name": "stdout",
     "output_type": "stream",
     "text": [
      "Testing Score : 0.727776229116043\n",
      "Training Score: 0.6755837223184566\n",
      "ARD Train-Test Gap : 0.0522\n"
     ]
    },
    {
     "name": "stderr",
     "output_type": "stream",
     "text": [
      "/Users/yaku/opt/anaconda3/lib/python3.8/site-packages/sklearn/utils/validation.py:63: DataConversionWarning: A column-vector y was passed when a 1d array was expected. Please change the shape of y to (n_samples, ), for example using ravel().\n",
      "  return f(*args, **kwargs)\n",
      "/Users/yaku/opt/anaconda3/lib/python3.8/site-packages/sklearn/utils/validation.py:63: DataConversionWarning: A column-vector y was passed when a 1d array was expected. Please change the shape of y to (n_samples, ), for example using ravel().\n",
      "  return f(*args, **kwargs)\n"
     ]
    }
   ],
   "source": [
    "# INSTANTIATING a model object\n",
    "ard_model = ARDRegression()\n",
    "\n",
    "# FITTING the training data\n",
    "ard_fit = ard_model.fit(X_train, y_train)\n",
    "\n",
    "\n",
    "# PREDICTING on new data\n",
    "ard_pred = ard_model.fit(X_test, y_test)\n",
    "\n",
    "# Prrinting test and train scores\n",
    "print('Testing Score :', ard.score(X_test, y_test))\n",
    "print('Training Score:', ard.score(X_train, y_train))\n",
    "\n",
    "# saving scoring data for future use\n",
    "ard_train_score = ard.score(X_train, y_train)\n",
    "ard_test_score  = ard.score(X_test, y_test)\n",
    "\n",
    "\n",
    "# displaying and saving the gap between training and testing\n",
    "\n",
    "print('ARD Train-Test Gap :', abs(ard_train_score - ard_test_score).round(4))\n",
    "ard_test_gap = abs(ard_train_score - ard_test_score).round(4)"
   ]
  },
  {
   "cell_type": "code",
   "execution_count": 574,
   "id": "eb2ac596",
   "metadata": {},
   "outputs": [
    {
     "name": "stdout",
     "output_type": "stream",
     "text": [
      "Lasso Training Score : 0.6751\n",
      "Lasso Testing Score  : 0.7275\n",
      "Lasso Train-Test Gap : 0.0524\n"
     ]
    }
   ],
   "source": [
    "# Lasso Regression\n",
    "\n",
    "# INSTANTIATING a model object\n",
    "lasso = Lasso(alpha=1.0, normalize=True)\n",
    "\n",
    "# FITTING to the training data\n",
    "lasso_fit = lasso.fit(X_train, y_train)\n",
    "\n",
    "\n",
    "# PREDICTING on new data\n",
    "lasso_pred = lasso.predict(X_test)\n",
    "\n",
    "\n",
    "# SCORING the results\n",
    "print('Lasso Training Score :', lasso.score(X_train, y_train).round(4))\n",
    "print('Lasso Testing Score  :', lasso.score(X_test, y_test).round(4))\n",
    "\n",
    "\n",
    "# saving scoring data for future use\n",
    "lasso_train_score = lasso.score(X_train, y_train) # using R-square\n",
    "lasso_test_score  = lasso.score(X_test, y_test)   # using R-square\n",
    "\n",
    "\n",
    "# displaying and saving the gap between training and testing\n",
    "lasso_test_gap = abs(lasso_train_score - lasso_test_score).round(4)\n",
    "print('Lasso Train-Test Gap :', lasso_test_gap)\n"
   ]
  },
  {
   "cell_type": "code",
   "execution_count": null,
   "id": "b8e12743",
   "metadata": {},
   "outputs": [],
   "source": []
  },
  {
   "cell_type": "code",
   "execution_count": null,
   "id": "0f1c9c39",
   "metadata": {},
   "outputs": [],
   "source": []
  }
 ],
 "metadata": {
  "kernelspec": {
   "display_name": "Python 3 (ipykernel)",
   "language": "python",
   "name": "python3"
  },
  "language_info": {
   "codemirror_mode": {
    "name": "ipython",
    "version": 3
   },
   "file_extension": ".py",
   "mimetype": "text/x-python",
   "name": "python",
   "nbconvert_exporter": "python",
   "pygments_lexer": "ipython3",
   "version": "3.8.8"
  },
  "toc": {
   "base_numbering": 1,
   "nav_menu": {},
   "number_sections": true,
   "sideBar": true,
   "skip_h1_title": false,
   "title_cell": "Table of Contents",
   "title_sidebar": "Contents",
   "toc_cell": false,
   "toc_position": {},
   "toc_section_display": true,
   "toc_window_display": false
  },
  "varInspector": {
   "cols": {
    "lenName": 16,
    "lenType": 16,
    "lenVar": 40
   },
   "kernels_config": {
    "python": {
     "delete_cmd_postfix": "",
     "delete_cmd_prefix": "del ",
     "library": "var_list.py",
     "varRefreshCmd": "print(var_dic_list())"
    },
    "r": {
     "delete_cmd_postfix": ") ",
     "delete_cmd_prefix": "rm(",
     "library": "var_list.r",
     "varRefreshCmd": "cat(var_dic_list()) "
    }
   },
   "types_to_exclude": [
    "module",
    "function",
    "builtin_function_or_method",
    "instance",
    "_Feature"
   ],
   "window_display": false
  }
 },
 "nbformat": 4,
 "nbformat_minor": 5
}
